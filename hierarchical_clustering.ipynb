{
  "nbformat": 4,
  "nbformat_minor": 0,
  "metadata": {
    "colab": {
      "name": "hierarchical_clustering.ipynb",
      "provenance": [],
      "authorship_tag": "ABX9TyOo3znM9GL2b59c8WPiS1lc",
      "include_colab_link": true
    },
    "kernelspec": {
      "name": "python3",
      "display_name": "Python 3"
    }
  },
  "cells": [
    {
      "cell_type": "markdown",
      "metadata": {
        "id": "view-in-github",
        "colab_type": "text"
      },
      "source": [
        "<a href=\"https://colab.research.google.com/github/hemang03/clustering/blob/master/hierarchical_clustering.ipynb\" target=\"_parent\"><img src=\"https://colab.research.google.com/assets/colab-badge.svg\" alt=\"Open In Colab\"/></a>"
      ]
    },
    {
      "cell_type": "code",
      "metadata": {
        "id": "Mmx0qLILxV8E",
        "colab_type": "code",
        "colab": {}
      },
      "source": [
        "import pandas as pd\n",
        "import numpy as np\n",
        "import matplotlib.pyplot as plt\n"
      ],
      "execution_count": 1,
      "outputs": []
    },
    {
      "cell_type": "code",
      "metadata": {
        "id": "lKOOCEP4xesP",
        "colab_type": "code",
        "colab": {}
      },
      "source": [
        "df = pd.read_csv('beer.csv')"
      ],
      "execution_count": 3,
      "outputs": []
    },
    {
      "cell_type": "code",
      "metadata": {
        "id": "8XUPlywtxt1s",
        "colab_type": "code",
        "colab": {
          "base_uri": "https://localhost:8080/",
          "height": 204
        },
        "outputId": "811c040e-acb2-4029-cf59-7ec3860ac23f"
      },
      "source": [
        "df.head()"
      ],
      "execution_count": 4,
      "outputs": [
        {
          "output_type": "execute_result",
          "data": {
            "text/html": [
              "<div>\n",
              "<style scoped>\n",
              "    .dataframe tbody tr th:only-of-type {\n",
              "        vertical-align: middle;\n",
              "    }\n",
              "\n",
              "    .dataframe tbody tr th {\n",
              "        vertical-align: top;\n",
              "    }\n",
              "\n",
              "    .dataframe thead th {\n",
              "        text-align: right;\n",
              "    }\n",
              "</style>\n",
              "<table border=\"1\" class=\"dataframe\">\n",
              "  <thead>\n",
              "    <tr style=\"text-align: right;\">\n",
              "      <th></th>\n",
              "      <th>name</th>\n",
              "      <th>calories</th>\n",
              "      <th>sodium</th>\n",
              "      <th>alcohol</th>\n",
              "      <th>cost</th>\n",
              "    </tr>\n",
              "  </thead>\n",
              "  <tbody>\n",
              "    <tr>\n",
              "      <th>0</th>\n",
              "      <td>Budweiser</td>\n",
              "      <td>144</td>\n",
              "      <td>15</td>\n",
              "      <td>4.7</td>\n",
              "      <td>0.43</td>\n",
              "    </tr>\n",
              "    <tr>\n",
              "      <th>1</th>\n",
              "      <td>Schlitz</td>\n",
              "      <td>151</td>\n",
              "      <td>19</td>\n",
              "      <td>4.9</td>\n",
              "      <td>0.43</td>\n",
              "    </tr>\n",
              "    <tr>\n",
              "      <th>2</th>\n",
              "      <td>Lowenbrau</td>\n",
              "      <td>157</td>\n",
              "      <td>15</td>\n",
              "      <td>0.9</td>\n",
              "      <td>0.48</td>\n",
              "    </tr>\n",
              "    <tr>\n",
              "      <th>3</th>\n",
              "      <td>Kronenbourg</td>\n",
              "      <td>170</td>\n",
              "      <td>7</td>\n",
              "      <td>5.2</td>\n",
              "      <td>0.73</td>\n",
              "    </tr>\n",
              "    <tr>\n",
              "      <th>4</th>\n",
              "      <td>Heineken</td>\n",
              "      <td>152</td>\n",
              "      <td>11</td>\n",
              "      <td>5.0</td>\n",
              "      <td>0.77</td>\n",
              "    </tr>\n",
              "  </tbody>\n",
              "</table>\n",
              "</div>"
            ],
            "text/plain": [
              "          name  calories  sodium  alcohol  cost\n",
              "0    Budweiser       144      15      4.7  0.43\n",
              "1      Schlitz       151      19      4.9  0.43\n",
              "2    Lowenbrau       157      15      0.9  0.48\n",
              "3  Kronenbourg       170       7      5.2  0.73\n",
              "4     Heineken       152      11      5.0  0.77"
            ]
          },
          "metadata": {
            "tags": []
          },
          "execution_count": 4
        }
      ]
    },
    {
      "cell_type": "code",
      "metadata": {
        "id": "ggqWwVIIx7Sc",
        "colab_type": "code",
        "colab": {
          "base_uri": "https://localhost:8080/",
          "height": 119
        },
        "outputId": "43c98106-4455-4500-8a5f-0cda75510536"
      },
      "source": [
        "df.dtypes"
      ],
      "execution_count": 5,
      "outputs": [
        {
          "output_type": "execute_result",
          "data": {
            "text/plain": [
              "name         object\n",
              "calories      int64\n",
              "sodium        int64\n",
              "alcohol     float64\n",
              "cost        float64\n",
              "dtype: object"
            ]
          },
          "metadata": {
            "tags": []
          },
          "execution_count": 5
        }
      ]
    },
    {
      "cell_type": "code",
      "metadata": {
        "id": "5tGOLj31x9OD",
        "colab_type": "code",
        "colab": {
          "base_uri": "https://localhost:8080/",
          "height": 119
        },
        "outputId": "27e1e856-679b-41fc-dd0c-0c82a024fec7"
      },
      "source": [
        "df.isna().sum()"
      ],
      "execution_count": 6,
      "outputs": [
        {
          "output_type": "execute_result",
          "data": {
            "text/plain": [
              "name        0\n",
              "calories    0\n",
              "sodium      0\n",
              "alcohol     0\n",
              "cost        0\n",
              "dtype: int64"
            ]
          },
          "metadata": {
            "tags": []
          },
          "execution_count": 6
        }
      ]
    },
    {
      "cell_type": "code",
      "metadata": {
        "id": "_XdXucfCyBSb",
        "colab_type": "code",
        "colab": {}
      },
      "source": [
        "from sklearn.preprocessing import StandardScaler\n",
        "sc = StandardScaler()\n",
        "X = sc.fit_transform(df[['calories','sodium','alcohol','cost']])"
      ],
      "execution_count": 7,
      "outputs": []
    },
    {
      "cell_type": "code",
      "metadata": {
        "id": "tKobi3wmybFk",
        "colab_type": "code",
        "colab": {
          "base_uri": "https://localhost:8080/",
          "height": 268
        },
        "outputId": "e3526e15-b434-48bd-e4bb-3f58c15c68d8"
      },
      "source": [
        "import scipy.cluster.hierarchy as sch\n",
        "dendrogram = sch.dendrogram(sch.linkage(X, method='ward'))"
      ],
      "execution_count": 10,
      "outputs": [
        {
          "output_type": "display_data",
          "data": {
            "image/png": "[encoded data removed]",
            "text/plain": [
              "<Figure size 432x288 with 1 Axes>"
            ]
          },
          "metadata": {
            "tags": [],
            "needs_background": "light"
          }
        }
      ]
    },
    {
      "cell_type": "code",
      "metadata": {
        "id": "fwNy0f3ezWyx",
        "colab_type": "code",
        "colab": {}
      },
      "source": [
        "from sklearn.cluster import AgglomerativeClustering\n",
        "HC = AgglomerativeClustering(n_clusters = 3 , affinity ='euclidean')"
      ],
      "execution_count": 11,
      "outputs": []
    },
    {
      "cell_type": "code",
      "metadata": {
        "id": "3NrZ8_IuzsjO",
        "colab_type": "code",
        "colab": {}
      },
      "source": [
        "y_pred = HC.fit_predict(X)"
      ],
      "execution_count": 12,
      "outputs": []
    },
    {
      "cell_type": "code",
      "metadata": {
        "id": "n4xGdullz00A",
        "colab_type": "code",
        "colab": {
          "base_uri": "https://localhost:8080/",
          "height": 34
        },
        "outputId": "9f157893-9729-4786-aa1f-8e55aa02b53c"
      },
      "source": [
        "y_pred"
      ],
      "execution_count": 13,
      "outputs": [
        {
          "output_type": "execute_result",
          "data": {
            "text/plain": [
              "array([1, 1, 0, 2, 2, 1, 1, 1, 0, 0, 1, 0, 0, 2, 2, 0, 1, 1, 0, 0])"
            ]
          },
          "metadata": {
            "tags": []
          },
          "execution_count": 13
        }
      ]
    },
    {
      "cell_type": "code",
      "metadata": {
        "id": "kAeVf9sQz4FQ",
        "colab_type": "code",
        "colab": {}
      },
      "source": [
        "df['cluster']  =y_pred"
      ],
      "execution_count": 14,
      "outputs": []
    },
    {
      "cell_type": "code",
      "metadata": {
        "id": "r-HLdtp60fat",
        "colab_type": "code",
        "colab": {
          "base_uri": "https://localhost:8080/",
          "height": 669
        },
        "outputId": "a750c0ea-b7ac-467b-de49-ef15a7ba6928"
      },
      "source": [
        "df"
      ],
      "execution_count": 15,
      "outputs": [
        {
          "output_type": "execute_result",
          "data": {
            "text/html": [
              "<div>\n",
              "<style scoped>\n",
              "    .dataframe tbody tr th:only-of-type {\n",
              "        vertical-align: middle;\n",
              "    }\n",
              "\n",
              "    .dataframe tbody tr th {\n",
              "        vertical-align: top;\n",
              "    }\n",
              "\n",
              "    .dataframe thead th {\n",
              "        text-align: right;\n",
              "    }\n",
              "</style>\n",
              "<table border=\"1\" class=\"dataframe\">\n",
              "  <thead>\n",
              "    <tr style=\"text-align: right;\">\n",
              "      <th></th>\n",
              "      <th>name</th>\n",
              "      <th>calories</th>\n",
              "      <th>sodium</th>\n",
              "      <th>alcohol</th>\n",
              "      <th>cost</th>\n",
              "      <th>cluster</th>\n",
              "    </tr>\n",
              "  </thead>\n",
              "  <tbody>\n",
              "    <tr>\n",
              "      <th>0</th>\n",
              "      <td>Budweiser</td>\n",
              "      <td>144</td>\n",
              "      <td>15</td>\n",
              "      <td>4.7</td>\n",
              "      <td>0.43</td>\n",
              "      <td>1</td>\n",
              "    </tr>\n",
              "    <tr>\n",
              "      <th>1</th>\n",
              "      <td>Schlitz</td>\n",
              "      <td>151</td>\n",
              "      <td>19</td>\n",
              "      <td>4.9</td>\n",
              "      <td>0.43</td>\n",
              "      <td>1</td>\n",
              "    </tr>\n",
              "    <tr>\n",
              "      <th>2</th>\n",
              "      <td>Lowenbrau</td>\n",
              "      <td>157</td>\n",
              "      <td>15</td>\n",
              "      <td>0.9</td>\n",
              "      <td>0.48</td>\n",
              "      <td>0</td>\n",
              "    </tr>\n",
              "    <tr>\n",
              "      <th>3</th>\n",
              "      <td>Kronenbourg</td>\n",
              "      <td>170</td>\n",
              "      <td>7</td>\n",
              "      <td>5.2</td>\n",
              "      <td>0.73</td>\n",
              "      <td>2</td>\n",
              "    </tr>\n",
              "    <tr>\n",
              "      <th>4</th>\n",
              "      <td>Heineken</td>\n",
              "      <td>152</td>\n",
              "      <td>11</td>\n",
              "      <td>5.0</td>\n",
              "      <td>0.77</td>\n",
              "      <td>2</td>\n",
              "    </tr>\n",
              "    <tr>\n",
              "      <th>5</th>\n",
              "      <td>Old_Milwaukee</td>\n",
              "      <td>145</td>\n",
              "      <td>23</td>\n",
              "      <td>4.6</td>\n",
              "      <td>0.28</td>\n",
              "      <td>1</td>\n",
              "    </tr>\n",
              "    <tr>\n",
              "      <th>6</th>\n",
              "      <td>Augsberger</td>\n",
              "      <td>175</td>\n",
              "      <td>24</td>\n",
              "      <td>5.5</td>\n",
              "      <td>0.40</td>\n",
              "      <td>1</td>\n",
              "    </tr>\n",
              "    <tr>\n",
              "      <th>7</th>\n",
              "      <td>Srohs_Bohemian_Style</td>\n",
              "      <td>149</td>\n",
              "      <td>27</td>\n",
              "      <td>4.7</td>\n",
              "      <td>0.42</td>\n",
              "      <td>1</td>\n",
              "    </tr>\n",
              "    <tr>\n",
              "      <th>8</th>\n",
              "      <td>Miller_Lite</td>\n",
              "      <td>99</td>\n",
              "      <td>10</td>\n",
              "      <td>4.3</td>\n",
              "      <td>0.43</td>\n",
              "      <td>0</td>\n",
              "    </tr>\n",
              "    <tr>\n",
              "      <th>9</th>\n",
              "      <td>Budweiser_Light</td>\n",
              "      <td>113</td>\n",
              "      <td>8</td>\n",
              "      <td>3.7</td>\n",
              "      <td>0.40</td>\n",
              "      <td>0</td>\n",
              "    </tr>\n",
              "    <tr>\n",
              "      <th>10</th>\n",
              "      <td>Coors</td>\n",
              "      <td>140</td>\n",
              "      <td>18</td>\n",
              "      <td>4.6</td>\n",
              "      <td>0.44</td>\n",
              "      <td>1</td>\n",
              "    </tr>\n",
              "    <tr>\n",
              "      <th>11</th>\n",
              "      <td>Coors_Light</td>\n",
              "      <td>102</td>\n",
              "      <td>15</td>\n",
              "      <td>4.1</td>\n",
              "      <td>0.46</td>\n",
              "      <td>0</td>\n",
              "    </tr>\n",
              "    <tr>\n",
              "      <th>12</th>\n",
              "      <td>Michelob_Light</td>\n",
              "      <td>135</td>\n",
              "      <td>11</td>\n",
              "      <td>4.2</td>\n",
              "      <td>0.50</td>\n",
              "      <td>0</td>\n",
              "    </tr>\n",
              "    <tr>\n",
              "      <th>13</th>\n",
              "      <td>Becks</td>\n",
              "      <td>150</td>\n",
              "      <td>19</td>\n",
              "      <td>4.7</td>\n",
              "      <td>0.76</td>\n",
              "      <td>2</td>\n",
              "    </tr>\n",
              "    <tr>\n",
              "      <th>14</th>\n",
              "      <td>Kirin</td>\n",
              "      <td>149</td>\n",
              "      <td>6</td>\n",
              "      <td>5.0</td>\n",
              "      <td>0.79</td>\n",
              "      <td>2</td>\n",
              "    </tr>\n",
              "    <tr>\n",
              "      <th>15</th>\n",
              "      <td>Pabst_Extra_Light</td>\n",
              "      <td>68</td>\n",
              "      <td>15</td>\n",
              "      <td>2.3</td>\n",
              "      <td>0.38</td>\n",
              "      <td>0</td>\n",
              "    </tr>\n",
              "    <tr>\n",
              "      <th>16</th>\n",
              "      <td>Hamms</td>\n",
              "      <td>139</td>\n",
              "      <td>19</td>\n",
              "      <td>4.4</td>\n",
              "      <td>0.43</td>\n",
              "      <td>1</td>\n",
              "    </tr>\n",
              "    <tr>\n",
              "      <th>17</th>\n",
              "      <td>Heilemans_Old_Style</td>\n",
              "      <td>144</td>\n",
              "      <td>24</td>\n",
              "      <td>4.9</td>\n",
              "      <td>0.43</td>\n",
              "      <td>1</td>\n",
              "    </tr>\n",
              "    <tr>\n",
              "      <th>18</th>\n",
              "      <td>Olympia_Goled_Light</td>\n",
              "      <td>72</td>\n",
              "      <td>6</td>\n",
              "      <td>2.9</td>\n",
              "      <td>0.46</td>\n",
              "      <td>0</td>\n",
              "    </tr>\n",
              "    <tr>\n",
              "      <th>19</th>\n",
              "      <td>Schlitz_Light</td>\n",
              "      <td>97</td>\n",
              "      <td>7</td>\n",
              "      <td>4.2</td>\n",
              "      <td>0.47</td>\n",
              "      <td>0</td>\n",
              "    </tr>\n",
              "  </tbody>\n",
              "</table>\n",
              "</div>"
            ],
            "text/plain": [
              "                    name  calories  sodium  alcohol  cost  cluster\n",
              "0              Budweiser       144      15      4.7  0.43        1\n",
              "1                Schlitz       151      19      4.9  0.43        1\n",
              "2              Lowenbrau       157      15      0.9  0.48        0\n",
              "3            Kronenbourg       170       7      5.2  0.73        2\n",
              "4               Heineken       152      11      5.0  0.77        2\n",
              "5          Old_Milwaukee       145      23      4.6  0.28        1\n",
              "6             Augsberger       175      24      5.5  0.40        1\n",
              "7   Srohs_Bohemian_Style       149      27      4.7  0.42        1\n",
              "8            Miller_Lite        99      10      4.3  0.43        0\n",
              "9        Budweiser_Light       113       8      3.7  0.40        0\n",
              "10                 Coors       140      18      4.6  0.44        1\n",
              "11           Coors_Light       102      15      4.1  0.46        0\n",
              "12        Michelob_Light       135      11      4.2  0.50        0\n",
              "13                 Becks       150      19      4.7  0.76        2\n",
              "14                 Kirin       149       6      5.0  0.79        2\n",
              "15     Pabst_Extra_Light        68      15      2.3  0.38        0\n",
              "16                 Hamms       139      19      4.4  0.43        1\n",
              "17   Heilemans_Old_Style       144      24      4.9  0.43        1\n",
              "18   Olympia_Goled_Light        72       6      2.9  0.46        0\n",
              "19         Schlitz_Light        97       7      4.2  0.47        0"
            ]
          },
          "metadata": {
            "tags": []
          },
          "execution_count": 15
        }
      ]
    },
    {
      "cell_type": "code",
      "metadata": {
        "id": "-OHfa3XZ0gm2",
        "colab_type": "code",
        "colab": {
          "base_uri": "https://localhost:8080/",
          "height": 297
        },
        "outputId": "8aa0241e-a22b-4a2b-ae90-af6e7d68ed39"
      },
      "source": [
        "df[df.cluster == 1]"
      ],
      "execution_count": 16,
      "outputs": [
        {
          "output_type": "execute_result",
          "data": {
            "text/html": [
              "<div>\n",
              "<style scoped>\n",
              "    .dataframe tbody tr th:only-of-type {\n",
              "        vertical-align: middle;\n",
              "    }\n",
              "\n",
              "    .dataframe tbody tr th {\n",
              "        vertical-align: top;\n",
              "    }\n",
              "\n",
              "    .dataframe thead th {\n",
              "        text-align: right;\n",
              "    }\n",
              "</style>\n",
              "<table border=\"1\" class=\"dataframe\">\n",
              "  <thead>\n",
              "    <tr style=\"text-align: right;\">\n",
              "      <th></th>\n",
              "      <th>name</th>\n",
              "      <th>calories</th>\n",
              "      <th>sodium</th>\n",
              "      <th>alcohol</th>\n",
              "      <th>cost</th>\n",
              "      <th>cluster</th>\n",
              "    </tr>\n",
              "  </thead>\n",
              "  <tbody>\n",
              "    <tr>\n",
              "      <th>0</th>\n",
              "      <td>Budweiser</td>\n",
              "      <td>144</td>\n",
              "      <td>15</td>\n",
              "      <td>4.7</td>\n",
              "      <td>0.43</td>\n",
              "      <td>1</td>\n",
              "    </tr>\n",
              "    <tr>\n",
              "      <th>1</th>\n",
              "      <td>Schlitz</td>\n",
              "      <td>151</td>\n",
              "      <td>19</td>\n",
              "      <td>4.9</td>\n",
              "      <td>0.43</td>\n",
              "      <td>1</td>\n",
              "    </tr>\n",
              "    <tr>\n",
              "      <th>5</th>\n",
              "      <td>Old_Milwaukee</td>\n",
              "      <td>145</td>\n",
              "      <td>23</td>\n",
              "      <td>4.6</td>\n",
              "      <td>0.28</td>\n",
              "      <td>1</td>\n",
              "    </tr>\n",
              "    <tr>\n",
              "      <th>6</th>\n",
              "      <td>Augsberger</td>\n",
              "      <td>175</td>\n",
              "      <td>24</td>\n",
              "      <td>5.5</td>\n",
              "      <td>0.40</td>\n",
              "      <td>1</td>\n",
              "    </tr>\n",
              "    <tr>\n",
              "      <th>7</th>\n",
              "      <td>Srohs_Bohemian_Style</td>\n",
              "      <td>149</td>\n",
              "      <td>27</td>\n",
              "      <td>4.7</td>\n",
              "      <td>0.42</td>\n",
              "      <td>1</td>\n",
              "    </tr>\n",
              "    <tr>\n",
              "      <th>10</th>\n",
              "      <td>Coors</td>\n",
              "      <td>140</td>\n",
              "      <td>18</td>\n",
              "      <td>4.6</td>\n",
              "      <td>0.44</td>\n",
              "      <td>1</td>\n",
              "    </tr>\n",
              "    <tr>\n",
              "      <th>16</th>\n",
              "      <td>Hamms</td>\n",
              "      <td>139</td>\n",
              "      <td>19</td>\n",
              "      <td>4.4</td>\n",
              "      <td>0.43</td>\n",
              "      <td>1</td>\n",
              "    </tr>\n",
              "    <tr>\n",
              "      <th>17</th>\n",
              "      <td>Heilemans_Old_Style</td>\n",
              "      <td>144</td>\n",
              "      <td>24</td>\n",
              "      <td>4.9</td>\n",
              "      <td>0.43</td>\n",
              "      <td>1</td>\n",
              "    </tr>\n",
              "  </tbody>\n",
              "</table>\n",
              "</div>"
            ],
            "text/plain": [
              "                    name  calories  sodium  alcohol  cost  cluster\n",
              "0              Budweiser       144      15      4.7  0.43        1\n",
              "1                Schlitz       151      19      4.9  0.43        1\n",
              "5          Old_Milwaukee       145      23      4.6  0.28        1\n",
              "6             Augsberger       175      24      5.5  0.40        1\n",
              "7   Srohs_Bohemian_Style       149      27      4.7  0.42        1\n",
              "10                 Coors       140      18      4.6  0.44        1\n",
              "16                 Hamms       139      19      4.4  0.43        1\n",
              "17   Heilemans_Old_Style       144      24      4.9  0.43        1"
            ]
          },
          "metadata": {
            "tags": []
          },
          "execution_count": 16
        }
      ]
    },
    {
      "cell_type": "code",
      "metadata": {
        "id": "zgXrQCcD0lpN",
        "colab_type": "code",
        "colab": {
          "base_uri": "https://localhost:8080/",
          "height": 173
        },
        "outputId": "f3c977df-7844-4208-ef78-2aa1b89f370c"
      },
      "source": [
        "df[df.cluster ==2]"
      ],
      "execution_count": 17,
      "outputs": [
        {
          "output_type": "execute_result",
          "data": {
            "text/html": [
              "<div>\n",
              "<style scoped>\n",
              "    .dataframe tbody tr th:only-of-type {\n",
              "        vertical-align: middle;\n",
              "    }\n",
              "\n",
              "    .dataframe tbody tr th {\n",
              "        vertical-align: top;\n",
              "    }\n",
              "\n",
              "    .dataframe thead th {\n",
              "        text-align: right;\n",
              "    }\n",
              "</style>\n",
              "<table border=\"1\" class=\"dataframe\">\n",
              "  <thead>\n",
              "    <tr style=\"text-align: right;\">\n",
              "      <th></th>\n",
              "      <th>name</th>\n",
              "      <th>calories</th>\n",
              "      <th>sodium</th>\n",
              "      <th>alcohol</th>\n",
              "      <th>cost</th>\n",
              "      <th>cluster</th>\n",
              "    </tr>\n",
              "  </thead>\n",
              "  <tbody>\n",
              "    <tr>\n",
              "      <th>3</th>\n",
              "      <td>Kronenbourg</td>\n",
              "      <td>170</td>\n",
              "      <td>7</td>\n",
              "      <td>5.2</td>\n",
              "      <td>0.73</td>\n",
              "      <td>2</td>\n",
              "    </tr>\n",
              "    <tr>\n",
              "      <th>4</th>\n",
              "      <td>Heineken</td>\n",
              "      <td>152</td>\n",
              "      <td>11</td>\n",
              "      <td>5.0</td>\n",
              "      <td>0.77</td>\n",
              "      <td>2</td>\n",
              "    </tr>\n",
              "    <tr>\n",
              "      <th>13</th>\n",
              "      <td>Becks</td>\n",
              "      <td>150</td>\n",
              "      <td>19</td>\n",
              "      <td>4.7</td>\n",
              "      <td>0.76</td>\n",
              "      <td>2</td>\n",
              "    </tr>\n",
              "    <tr>\n",
              "      <th>14</th>\n",
              "      <td>Kirin</td>\n",
              "      <td>149</td>\n",
              "      <td>6</td>\n",
              "      <td>5.0</td>\n",
              "      <td>0.79</td>\n",
              "      <td>2</td>\n",
              "    </tr>\n",
              "  </tbody>\n",
              "</table>\n",
              "</div>"
            ],
            "text/plain": [
              "           name  calories  sodium  alcohol  cost  cluster\n",
              "3   Kronenbourg       170       7      5.2  0.73        2\n",
              "4      Heineken       152      11      5.0  0.77        2\n",
              "13        Becks       150      19      4.7  0.76        2\n",
              "14        Kirin       149       6      5.0  0.79        2"
            ]
          },
          "metadata": {
            "tags": []
          },
          "execution_count": 17
        }
      ]
    },
    {
      "cell_type": "code",
      "metadata": {
        "id": "OA9EY04x0oXz",
        "colab_type": "code",
        "colab": {
          "base_uri": "https://localhost:8080/",
          "height": 49
        },
        "outputId": "e962cc6b-0c10-440e-eff1-f8c440ef2148"
      },
      "source": [
        "df[df.cluster ==3]"
      ],
      "execution_count": 18,
      "outputs": [
        {
          "output_type": "execute_result",
          "data": {
            "text/html": [
              "<div>\n",
              "<style scoped>\n",
              "    .dataframe tbody tr th:only-of-type {\n",
              "        vertical-align: middle;\n",
              "    }\n",
              "\n",
              "    .dataframe tbody tr th {\n",
              "        vertical-align: top;\n",
              "    }\n",
              "\n",
              "    .dataframe thead th {\n",
              "        text-align: right;\n",
              "    }\n",
              "</style>\n",
              "<table border=\"1\" class=\"dataframe\">\n",
              "  <thead>\n",
              "    <tr style=\"text-align: right;\">\n",
              "      <th></th>\n",
              "      <th>name</th>\n",
              "      <th>calories</th>\n",
              "      <th>sodium</th>\n",
              "      <th>alcohol</th>\n",
              "      <th>cost</th>\n",
              "      <th>cluster</th>\n",
              "    </tr>\n",
              "  </thead>\n",
              "  <tbody>\n",
              "  </tbody>\n",
              "</table>\n",
              "</div>"
            ],
            "text/plain": [
              "Empty DataFrame\n",
              "Columns: [name, calories, sodium, alcohol, cost, cluster]\n",
              "Index: []"
            ]
          },
          "metadata": {
            "tags": []
          },
          "execution_count": 18
        }
      ]
    },
    {
      "cell_type": "code",
      "metadata": {
        "id": "OLRR955E0r1r",
        "colab_type": "code",
        "colab": {}
      },
      "source": [
        ""
      ],
      "execution_count": null,
      "outputs": []
    },
    {
      "cell_type": "code",
      "metadata": {
        "id": "zPy_r4nDzBlN",
        "colab_type": "code",
        "colab": {}
      },
      "source": [
        ""
      ],
      "execution_count": null,
      "outputs": []
    },
    {
      "cell_type": "code",
      "metadata": {
        "id": "YSFeJA4qy7Eo",
        "colab_type": "code",
        "colab": {}
      },
      "source": [
        ""
      ],
      "execution_count": null,
      "outputs": []
    }
  ]
}